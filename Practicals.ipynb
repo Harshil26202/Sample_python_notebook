{
 "cells": [
  {
   "cell_type": "code",
   "execution_count": 1,
   "id": "64d700b5",
   "metadata": {},
   "outputs": [
    {
     "name": "stdout",
     "output_type": "stream",
     "text": [
      "Hello World\n"
     ]
    }
   ],
   "source": [
    "print(\"Hello World\")"
   ]
  },
  {
   "cell_type": "code",
   "execution_count": 5,
   "id": "35329f8b",
   "metadata": {},
   "outputs": [
    {
     "name": "stdout",
     "output_type": "stream",
     "text": [
      "Enter a number: 4 \n",
      "Enter a number: 10\n",
      "a+b: 14\n",
      "a-b: -6\n",
      "a*b: 40\n",
      "a/b: 0.4\n"
     ]
    }
   ],
   "source": [
    "a = int(input(\"Enter a number: \"))\n",
    "b = int(input(\"Enter a number: \"))\n",
    "print('a+b:',a+b)\n",
    "print('a-b:',a-b)\n",
    "print('a*b:',a*b)\n",
    "print('a/b:',a/b)"
   ]
  },
  {
   "cell_type": "code",
   "execution_count": 6,
   "id": "51cd3106",
   "metadata": {},
   "outputs": [
    {
     "name": "stdout",
     "output_type": "stream",
     "text": [
      "Enter first number's real part:3\n",
      "Enter first number's complex part:3\n",
      "Enter first number's real part:3\n",
      "Enter first number's complex part:-3\n",
      "(6+0j)\n"
     ]
    }
   ],
   "source": [
    "a = int(input(\"Enter first number's real part:\"))\n",
    "b = int(input(\"Enter first number's complex part:\"))\n",
    "c = int(input(\"Enter first number's real part:\"))\n",
    "d = int(input(\"Enter first number's complex part:\"))\n",
    "c1 = complex(a,b)\n",
    "c2 = complex(c,d)\n",
    "print(c1+c2)"
   ]
  },
  {
   "cell_type": "code",
   "execution_count": 9,
   "id": "a5b59253",
   "metadata": {},
   "outputs": [
    {
     "name": "stdout",
     "output_type": "stream",
     "text": [
      "Enter float value:45.65\n",
      "45\n",
      "46\n",
      "45\n"
     ]
    }
   ],
   "source": [
    "import math\n",
    "f = float(input(\"Enter float value:\"))\n",
    "print(math.trunc(f))\n",
    "print(math.ceil(f))\n",
    "print(math.floor(f))"
   ]
  },
  {
   "cell_type": "code",
   "execution_count": 1,
   "id": "a31517f9",
   "metadata": {},
   "outputs": [
    {
     "name": "stdout",
     "output_type": "stream",
     "text": [
      "Enter range value:50\n",
      "Enter seed value:2\n",
      "3\n",
      "5\n",
      "5\n",
      "23\n",
      "10\n"
     ]
    }
   ],
   "source": [
    "import random\n",
    "r = int(input(\"Enter range value:\"))\n",
    "s = int(input(\"Enter seed value:\"))\n",
    "random.seed(s)\n",
    "for i in range (0,5):\n",
    "    print(random.randrange(0,r))"
   ]
  },
  {
   "cell_type": "code",
   "execution_count": 21,
   "id": "4d30c5f4",
   "metadata": {},
   "outputs": [
    {
     "name": "stdout",
     "output_type": "stream",
     "text": [
      "pythonisbest\n",
      "Pythonisbest\n",
      "2\n",
      "False\n",
      "8\n",
      "7\n",
      "True\n",
      "True\n",
      "True\n",
      "False\n",
      "False\n",
      "True\n",
      "False\n",
      "('python', 'is', 'best')\n",
      "PYTHONISBEST\n",
      "['Python', 'is', 'best']\n",
      "Python is best\n",
      "pYTHON IS BEST\n",
      "hello!  \n"
     ]
    }
   ],
   "source": [
    "s = \"pythonisbest\"\n",
    "print(s)\n",
    "p1= s.capitalize()\n",
    "print(p1)\n",
    "print(s.count(\"s\"))\n",
    "print(s.endswith(\"r\"))\n",
    "print(s.find(\"best\"))\n",
    "print(s.index(\"s\"))\n",
    "print(s.isalnum())\n",
    "print(s.isalpha())\n",
    "print(s.isascii())\n",
    "print(s.isdecimal())\n",
    "print(s.isdigit())\n",
    "print(s.isidentifier())\n",
    "print(s.isupper())\n",
    "p3=s.partition(\"is\")\n",
    "print(p3)\n",
    "print(s.upper())\n",
    "r = \"Python is best\"\n",
    "print(r.split())\n",
    "print(r.strip())\n",
    "print(r.swapcase())\n",
    "t = \"   hello!  \"\n",
    "print(t.lstrip())"
   ]
  },
  {
   "cell_type": "code",
   "execution_count": 24,
   "id": "898072e6",
   "metadata": {},
   "outputs": [
    {
     "name": "stdout",
     "output_type": "stream",
     "text": [
      "['apple', 'mango', 'banana', 'lichi']\n",
      "['apple', 'mango', 'banana', 'lichi']\n",
      "1\n",
      "['apple', 'mango', 'banana', 'lichi', 'Graps']\n",
      "1\n",
      "['apple', 'mango', 'banana', 'strawberry', 'lichi', 'Graps']\n",
      "['apple', 'mango', 'strawberry', 'lichi', 'Graps']\n",
      "['apple', 'mango', 'strawberry', 'Graps']\n",
      "['Graps', 'strawberry', 'mango', 'apple']\n",
      "['Graps', 'apple', 'mango', 'strawberry']\n"
     ]
    }
   ],
   "source": [
    "s = [\"apple\", \"mango\", \"banana\"]\n",
    "s.append(\"lichi\")\n",
    "print(s)\n",
    "r=s.copy()\n",
    "print(r)\n",
    "print(s.count(\"apple\"))\n",
    "t = [\"Graps\"]\n",
    "s.extend(t)\n",
    "print(s)\n",
    "print(s.index(\"mango\"))\n",
    "s.insert(3,\"strawberry\")\n",
    "print(s)\n",
    "s.pop(2)\n",
    "print(s)\n",
    "s.remove(\"lichi\")\n",
    "print(s)\n",
    "s.reverse()\n",
    "print(s)\n",
    "s.sort()\n",
    "print(s)"
   ]
  },
  {
   "cell_type": "code",
   "execution_count": 25,
   "id": "4ec074e3",
   "metadata": {},
   "outputs": [
    {
     "name": "stdout",
     "output_type": "stream",
     "text": [
      "(2, 3, 1, 4, 3, 6, 5, 2, 1, 8)\n",
      "2\n",
      "6\n"
     ]
    }
   ],
   "source": [
    "t = (2,3,1,4,3,6,5,2,1,8)\n",
    "print(t)\n",
    "print(t.count(2))\n",
    "print(t.index(5))"
   ]
  },
  {
   "cell_type": "code",
   "execution_count": 28,
   "id": "60bb71cd",
   "metadata": {},
   "outputs": [
    {
     "name": "stdout",
     "output_type": "stream",
     "text": [
      "{'dog', 'buffalo', 'cow', 'rat', 'cat'}\n",
      "{'cow', 'dog', 'rat', 'buffalo', 'cat'}\n",
      "{'cow', 'dog', 'rat', 'buffalo'}\n",
      "{'cat'}\n",
      "None\n",
      "set()\n",
      "True\n",
      "False\n",
      "False\n",
      "{'buffalo', 'cow', 'cat', 'rat'}\n",
      "{'buffalo', 'cow', 'cat', 'rat'}\n",
      "{'rat', 'buffalo'}\n",
      "{'buffalo', 'rat', 'cat'}\n"
     ]
    }
   ],
   "source": [
    "s = {\"rat\",\"cat\",\"dog\",\"cow\"}\n",
    "s.add(\"buffalo\")\n",
    "print(s)\n",
    "r = s.copy()\n",
    "print(r)\n",
    "r.discard(\"cat\")\n",
    "print(r)\n",
    "print(s.difference(r))\n",
    "print(s.difference_update(r))\n",
    "r.remove(\"dog\")\n",
    "print(s.intersection(r))\n",
    "t= s.isdisjoint(r)\n",
    "print(t)\n",
    "x = s.issubset(r)\n",
    "print(x)\n",
    "y = s.issuperset(r)\n",
    "print(y)\n",
    "print(s.symmetric_difference(r))\n",
    "print(s.union(r))\n",
    "r.pop()\n",
    "print(r)\n",
    "s.update(r)\n",
    "print(s)\n",
    "\n"
   ]
  },
  {
   "cell_type": "code",
   "execution_count": 29,
   "id": "9dc23397",
   "metadata": {},
   "outputs": [
    {
     "name": "stdout",
     "output_type": "stream",
     "text": [
      "Output List using list comprehensions: [2, 4, 4, 6]\n",
      "Output Dictionary using dictionary comprehensions: {'Gujarat': 'Gandhinagar', 'Maharashtra': 'Mumbai', 'Rajasthan': 'Jaipur'}\n",
      "Output Set using set comprehensions: {2, 4, 6}\n"
     ]
    }
   ],
   "source": [
    "# Using List comprehensions for constructing output list\n",
    "list = [1, 2, 3, 4, 4, 5, 6, 7, 7]\n",
    "list_using_comp = [var for var in list if var % 2 == 0]\n",
    "print(\"Output List using list comprehensions:\",list_using_comp)\n",
    "\n",
    "# Using Dictionary comprehensions for constructing output dictionary\n",
    "state = ['Gujarat', 'Maharashtra', 'Rajasthan']\n",
    "capital = ['Gandhinagar', 'Mumbai', 'Jaipur']\n",
    "dict_using_comp = {key:value for (key, value) in zip(state, capital)}\n",
    "print(\"Output Dictionary using dictionary comprehensions:\",dict_using_comp)\n",
    "\n",
    "# Using Set comprehensions for constructing output set\n",
    "input_list = [1, 2, 3, 4, 4, 5, 6, 6, 6, 7, 7]\n",
    "set_using_comp = {var for var in input_list if var % 2 == 0}\n",
    "print(\"Output Set using set comprehensions:\",set_using_comp)"
   ]
  },
  {
   "cell_type": "code",
   "execution_count": null,
   "id": "5e9ce372",
   "metadata": {},
   "outputs": [],
   "source": []
  }
 ],
 "metadata": {
  "kernelspec": {
   "display_name": "Python 3",
   "language": "python",
   "name": "python3"
  },
  "language_info": {
   "codemirror_mode": {
    "name": "ipython",
    "version": 3
   },
   "file_extension": ".py",
   "mimetype": "text/x-python",
   "name": "python",
   "nbconvert_exporter": "python",
   "pygments_lexer": "ipython3",
   "version": "3.9.1"
  }
 },
 "nbformat": 4,
 "nbformat_minor": 5
}
